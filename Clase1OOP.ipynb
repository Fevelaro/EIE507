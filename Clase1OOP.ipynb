{
  "nbformat": 4,
  "nbformat_minor": 0,
  "metadata": {
    "colab": {
      "name": "Clase1OOP.ipynb",
      "provenance": [],
      "collapsed_sections": [],
      "include_colab_link": true
    },
    "kernelspec": {
      "name": "python3",
      "display_name": "Python 3"
    },
    "language_info": {
      "name": "python"
    }
  },
  "cells": [
    {
      "cell_type": "markdown",
      "metadata": {
        "id": "view-in-github",
        "colab_type": "text"
      },
      "source": [
        "<a href=\"https://colab.research.google.com/github/eie507-1s2021-G1/EIE507/blob/main/Clase1OOP.ipynb\" target=\"_parent\"><img src=\"https://colab.research.google.com/assets/colab-badge.svg\" alt=\"Open In Colab\"/></a>"
      ]
    },
    {
      "cell_type": "markdown",
      "metadata": {
        "id": "FnrDZK-kAE2w"
      },
      "source": [
        "#Clase Python OOP\n",
        "\n",
        "\n",
        "*  Python es un lenguaje de programación interpretado, orientado a objetos.\n",
        "*  Todo en python es un objeto.\n"
      ]
    },
    {
      "cell_type": "markdown",
      "metadata": {
        "id": "_LNx61sqAl9Y"
      },
      "source": [
        "#Clases"
      ]
    },
    {
      "cell_type": "code",
      "metadata": {
        "id": "Vx6KCyN_Alfy"
      },
      "source": [
        "#primera clase\n",
        "class myClass:\n",
        "  x = 5"
      ],
      "execution_count": null,
      "outputs": []
    },
    {
      "cell_type": "markdown",
      "metadata": {
        "id": "E5vg2c1EAxh2"
      },
      "source": [
        "##Crear un objeto"
      ]
    },
    {
      "cell_type": "code",
      "metadata": {
        "colab": {
          "base_uri": "https://localhost:8080/"
        },
        "id": "9H14F2gp_9Nv",
        "outputId": "a2e92be9-1300-4197-d70b-1108d0ab5882"
      },
      "source": [
        "obj1 = myClass()\n",
        "print(obj1.x)"
      ],
      "execution_count": null,
      "outputs": [
        {
          "output_type": "stream",
          "text": [
            "5\n"
          ],
          "name": "stdout"
        }
      ]
    },
    {
      "cell_type": "markdown",
      "metadata": {
        "id": "Ro3cCM-rBYj0"
      },
      "source": [
        "##Función init.\n",
        "\n",
        "\n",
        "*   Para comprender el significado de las clases, debemos comprender la función incorporada __init __ ().\n",
        "\n",
        "*   Todas las clases tienen una función llamada __init __ (), que siempre se ejecuta cuando se inicia la clase.\n",
        "\n",
        "*   La función __init __ () se utiliza para asignar valores a los atributos del objeto u otras operaciones que sean necesarias cuando se crea el objeto:bold text"
      ]
    },
    {
      "cell_type": "code",
      "metadata": {
        "id": "yKYnpbgOBXmg"
      },
      "source": [
        "class Person:\n",
        "  def __init__(self, name, age):\n",
        "    self.name = name\n",
        "    self.age = age"
      ],
      "execution_count": null,
      "outputs": []
    },
    {
      "cell_type": "markdown",
      "metadata": {
        "id": "DhmR4h2EExTI"
      },
      "source": [
        "El parámetro self es una referencia a la instancia actual de la clase y se usa para acceder a las variables que pertenecen a la clase.\n",
        "\n",
        "```\n",
        "# This is formatted as code\n",
        "```\n",
        "\n"
      ]
    },
    {
      "cell_type": "code",
      "metadata": {
        "colab": {
          "base_uri": "https://localhost:8080/"
        },
        "id": "ZwovYrcHCdEU",
        "outputId": "f76d4b01-207b-4b41-c0c3-bfde8c62117f"
      },
      "source": [
        "obj1 = Person(\"juan\", 40)\n",
        "print(obj1.name)\n",
        "print(obj1.age)"
      ],
      "execution_count": null,
      "outputs": [
        {
          "output_type": "stream",
          "text": [
            "juan\n",
            "40\n"
          ],
          "name": "stdout"
        }
      ]
    },
    {
      "cell_type": "markdown",
      "metadata": {
        "id": "fltCCbP8EFSl"
      },
      "source": [
        "#Metodos\n",
        "Los metodos son funciones que pertenecen al objeto"
      ]
    },
    {
      "cell_type": "code",
      "metadata": {
        "id": "nDneIJd4ECgB"
      },
      "source": [
        "class Person:\n",
        "  def __init__(self, name, age):\n",
        "    self.name = name\n",
        "    self.age = age\n",
        "  def myfunc(self):\n",
        "    print(\"Hello my name is: \" + self.name)"
      ],
      "execution_count": null,
      "outputs": []
    },
    {
      "cell_type": "code",
      "metadata": {
        "colab": {
          "base_uri": "https://localhost:8080/"
        },
        "id": "pSPEn5tREdsI",
        "outputId": "f4ab08b5-a9d7-4a8a-9811-238de4718fd6"
      },
      "source": [
        "obj1 = Person(\"juan\", 40)\n",
        "obj1.myfunc()"
      ],
      "execution_count": null,
      "outputs": [
        {
          "output_type": "stream",
          "text": [
            "Hello my name is: juan\n"
          ],
          "name": "stdout"
        }
      ]
    },
    {
      "cell_type": "markdown",
      "metadata": {
        "id": "v8l5NogZE8Xh"
      },
      "source": [
        "#Modificamos los atributos del objeto"
      ]
    },
    {
      "cell_type": "code",
      "metadata": {
        "colab": {
          "base_uri": "https://localhost:8080/"
        },
        "id": "mo-xe5YiFAEg",
        "outputId": "00a02f0d-1f29-49f9-f1b3-640ec6f56768"
      },
      "source": [
        "obj1.age = 1000\n",
        "print(obj1.age)"
      ],
      "execution_count": null,
      "outputs": [
        {
          "output_type": "stream",
          "text": [
            "1000\n"
          ],
          "name": "stdout"
        }
      ]
    },
    {
      "cell_type": "markdown",
      "metadata": {
        "id": "L5xGMhGmFHIY"
      },
      "source": [
        "#Eliminar de la memoria un objeto"
      ]
    },
    {
      "cell_type": "code",
      "metadata": {
        "id": "TD9kwkUTFFYR"
      },
      "source": [
        "del obj1"
      ],
      "execution_count": null,
      "outputs": []
    },
    {
      "cell_type": "markdown",
      "metadata": {
        "id": "HMtWTZPMFm0P"
      },
      "source": [
        "#Jerarquización\n",
        "La herencia nos permite definir una clase que hereda todos los métodos y propiedades de otra clase.\n",
        "\n",
        "La clase principal es la clase de la que se hereda, también llamada clase base o clase padre.\n",
        "\n",
        "La clase hija es la clase que hereda de otra clase, también llamada clase derivada."
      ]
    },
    {
      "cell_type": "markdown",
      "metadata": {
        "id": "YOzOg0AwGLEo"
      },
      "source": [
        "1º Se crea la clase padre."
      ]
    },
    {
      "cell_type": "code",
      "metadata": {
        "colab": {
          "base_uri": "https://localhost:8080/"
        },
        "id": "e-YEvyQMFtDY",
        "outputId": "2545d5b3-e604-424e-87d0-498a87f5d79c"
      },
      "source": [
        "class Person:\n",
        "  def __init__(self, fname, lname):\n",
        "    self.firstname = fname\n",
        "    self.lastname = lname\n",
        "\n",
        "  def printname(self):\n",
        "    print(self.firstname, self.lastname)\n",
        "\n",
        "x = Person(\"Juan\", \"Peres\")\n",
        "x.printname()"
      ],
      "execution_count": null,
      "outputs": [
        {
          "output_type": "stream",
          "text": [
            "Juan Peres\n"
          ],
          "name": "stdout"
        }
      ]
    },
    {
      "cell_type": "markdown",
      "metadata": {
        "id": "WEOarxBDGa7e"
      },
      "source": [
        "## Clase hija\n",
        "Esta clase hereda las funciones de la clase padre y atributos"
      ]
    },
    {
      "cell_type": "code",
      "metadata": {
        "id": "Le_xd5gqGyh-"
      },
      "source": [
        "class Student(Person):\n",
        "  pass"
      ],
      "execution_count": null,
      "outputs": []
    },
    {
      "cell_type": "markdown",
      "metadata": {
        "id": "ul7_RB4VG7vR"
      },
      "source": [
        "Accedemos a los atributos de la clase padre y a los metodos"
      ]
    },
    {
      "cell_type": "code",
      "metadata": {
        "colab": {
          "base_uri": "https://localhost:8080/"
        },
        "id": "ZYKgP4jxG60N",
        "outputId": "6c35aa24-a572-4755-93aa-8c4db91e6962"
      },
      "source": [
        "Alumno = Student(\"nombreAlumno\", \"apellidoAlumno\")\n",
        "print(Alumno.lastname)\n",
        "Alumno.printname()"
      ],
      "execution_count": null,
      "outputs": [
        {
          "output_type": "stream",
          "text": [
            "apellidoAlumno\n",
            "nombreAlumno apellidoAlumno\n"
          ],
          "name": "stdout"
        }
      ]
    },
    {
      "cell_type": "markdown",
      "metadata": {
        "id": "SVOf7zhjG4LP"
      },
      "source": [
        "#Funcion init a la clase hija.\n",
        "Al agregar una función inicializadora re-escribe la función inicializadora padre"
      ]
    },
    {
      "cell_type": "code",
      "metadata": {
        "id": "6JoMqNurH-6v"
      },
      "source": [
        "class Student(Person):\n",
        "  def __init__(self, fname, lname):\n",
        "    #add properties etc."
      ],
      "execution_count": null,
      "outputs": []
    },
    {
      "cell_type": "markdown",
      "metadata": {
        "id": "pzwSvordILm7"
      },
      "source": [
        "#Función SUPER()\n",
        "Python también tiene una función super () que hará que la clase hija herede todos los métodos y propiedades de su padre:"
      ]
    },
    {
      "cell_type": "code",
      "metadata": {
        "id": "NZ-uDkixIWRI"
      },
      "source": [
        "class Student(Person):\n",
        "  def __init__(self, fname, lname):\n",
        "    super().__init__(fname, lname)"
      ],
      "execution_count": null,
      "outputs": []
    },
    {
      "cell_type": "markdown",
      "metadata": {
        "id": "oW0T6WYJIgdL"
      },
      "source": [
        "#Añadir atributos"
      ]
    },
    {
      "cell_type": "code",
      "metadata": {
        "id": "QX_QuvH-IiQC"
      },
      "source": [
        "class Student(Person):\n",
        "  def __init__(self, fname, lname, year):\n",
        "    super().__init__(fname, lname)\n",
        "    self.graduationyear = year"
      ],
      "execution_count": null,
      "outputs": []
    },
    {
      "cell_type": "code",
      "metadata": {
        "id": "XO6-5kPFIoYB"
      },
      "source": [
        "x = Student(\"alumno2\", \"alumno\", 2030)\n"
      ],
      "execution_count": null,
      "outputs": []
    },
    {
      "cell_type": "code",
      "metadata": {
        "id": "EQVONlDrI3cw"
      },
      "source": [
        "class Person:\n",
        "  def __init__(self, fname, lname):\n",
        "    self.firstname = fname\n",
        "    self.lastname = lname\n",
        "\n",
        "  def printname(self):\n",
        "    print(self.firstname, self.lastname)\n",
        "#------------------------------------------------------------------------------------------    \n",
        "class Student(Person):\n",
        "  def __init__(self, fname, lname, year):\n",
        "    super().__init__(fname, lname)\n",
        "    self.graduationyear = year\n",
        "\n",
        "  def welcome(self):\n",
        "    print(\"Welcome\", self.firstname, self.lastname, \"to the class of\", self.graduationyear)"
      ],
      "execution_count": null,
      "outputs": []
    },
    {
      "cell_type": "code",
      "metadata": {
        "colab": {
          "base_uri": "https://localhost:8080/"
        },
        "id": "JugUijDIJwzi",
        "outputId": "bb96e5c2-9675-4ff8-999b-769c5ae7dc15"
      },
      "source": [
        "x = Student(\"alumno2\", \"alumno\", 2030)\n",
        "x.welcome()"
      ],
      "execution_count": null,
      "outputs": [
        {
          "output_type": "stream",
          "text": [
            "Welcome alumno2 alumno to the class of 2030\n"
          ],
          "name": "stdout"
        }
      ]
    },
    {
      "cell_type": "markdown",
      "metadata": {
        "id": "y0ShUkubKKsM"
      },
      "source": [
        "#Sets and getters"
      ]
    },
    {
      "cell_type": "markdown",
      "metadata": {
        "id": "QBW748fNKYhp"
      },
      "source": [
        "Es una mala practica acceder a los atributos de forma directa, ya que estos se encuentran vinculados a al objeto que se les asigne. Por lo tanto, Se definen metodos que nos permitan acceder y modificar estos atributos "
      ]
    },
    {
      "cell_type": "code",
      "metadata": {
        "id": "1K3N29IfKTXg"
      },
      "source": [
        "class Animals(object):\n",
        "  #--------------------------\n",
        "  def __init__(self, age):\n",
        "    self.age = age\n",
        "    self.name = None # atributo que se configura internamente.\n",
        "  #--------------------------\n",
        "  def get_age(self):\n",
        "    return self.age\n",
        "  #--------------------------\n",
        "  def get_name(self):\n",
        "    return self.name\n",
        "  #--------------------------\n",
        "  def set_age(self,new_age):\n",
        "    self.age = new_age\n",
        "  #--------------------------\n",
        "  def set_name(self,new_name):\n",
        "    self.name = new_name\n",
        "  #--------------------------\n",
        "  def __str__(self):\n",
        "    return (\"animal:\" + str(self.name) + \":\" + str(self.age))"
      ],
      "execution_count": null,
      "outputs": []
    },
    {
      "cell_type": "markdown",
      "metadata": {
        "id": "Im_QoqzJMc7k"
      },
      "source": [
        "Los setters y getters siempre deben usarse fuera de la clase, nos permite desvincularnos la representación interna de la clase a la representación de la variable."
      ]
    },
    {
      "cell_type": "code",
      "metadata": {
        "colab": {
          "base_uri": "https://localhost:8080/"
        },
        "id": "g_dhwTHwMtk9",
        "outputId": "d0e40771-7ab1-48ce-e6b0-fece8b7ab1e6"
      },
      "source": [
        "a = Animals(3)\n",
        "print(a.age) # aca estamos accediendo directamente al atributo de la clase\n",
        "print(a.get_age()) # aca estamos retornando el atributo de la clase a través de un metodo que nos permite desvicular la representación interna y externa"
      ],
      "execution_count": null,
      "outputs": [
        {
          "output_type": "stream",
          "text": [
            "3\n",
            "3\n"
          ],
          "name": "stdout"
        }
      ]
    },
    {
      "cell_type": "markdown",
      "metadata": {
        "id": "_oD9vdGROr0a"
      },
      "source": [
        "#Otro metodo Build-IN \n",
        "\n",
        "## '\\_\\_str__'"
      ]
    },
    {
      "cell_type": "code",
      "metadata": {
        "colab": {
          "base_uri": "https://localhost:8080/"
        },
        "id": "0BgVe4lHOelT",
        "outputId": "10c74fce-c38f-4149-d796-7b36dce14d13"
      },
      "source": [
        "print(a)"
      ],
      "execution_count": null,
      "outputs": [
        {
          "output_type": "stream",
          "text": [
            "animal:None:3\n"
          ],
          "name": "stdout"
        }
      ]
    },
    {
      "cell_type": "markdown",
      "metadata": {
        "id": "S3lZfWsdNp9M"
      },
      "source": [
        "#Construyendo una clase"
      ]
    },
    {
      "cell_type": "code",
      "metadata": {
        "id": "eHWQRKWFdpCs"
      },
      "source": [
        "import time\n",
        "import datetime"
      ],
      "execution_count": null,
      "outputs": []
    },
    {
      "cell_type": "code",
      "metadata": {
        "id": "JS47_439NZIq"
      },
      "source": [
        "class Person(object):\n",
        "  def __init__(self,name):\n",
        "    self.name = name\n",
        "    self.birthday = None\n",
        "    self.lastName = name.split(' ')[-1]\n",
        "    self.currentDate = datetime.datetime.today()\n",
        "  #--------------------------\n",
        "  def getLastName(self):\n",
        "    return self.lasName\n",
        "  #--------------------------\n",
        "  def __str__(self):\n",
        "    return self.name\n",
        "  #--------------------------\n",
        "  def setBirthday(self,month,day,year):\n",
        "    birthday = str(month)+str(\"/\")+str(day)+str(\"/\")+str(year)\n",
        "    self.birthday = datetime.datetime.strptime(birthday,'%m/%d/%Y')\n",
        "  #--------------------------\n",
        "  def getAge(self, ):\n",
        "    if (self.birthday == None):\n",
        "      raise ValueError('')\n",
        "      self.currentDate = datetime.datetime.today()\n",
        "    return (self.currentDate - self.birthday)\n",
        "  #--------------------------\n",
        "  def getBirthday(self):\n",
        "    return self.birthday\n",
        "  #--------------------------\n",
        "  #--------------------------\n",
        "  "
      ],
      "execution_count": null,
      "outputs": []
    },
    {
      "cell_type": "code",
      "metadata": {
        "id": "1BEucmy5QyYj"
      },
      "source": [
        "p1 = Person('alumno1')\n",
        "p2 = Person('alumno2')\n",
        "p3 = Person('alumno3')"
      ],
      "execution_count": null,
      "outputs": []
    },
    {
      "cell_type": "code",
      "metadata": {
        "colab": {
          "base_uri": "https://localhost:8080/",
          "height": 286
        },
        "id": "ecmpjwu-Q-uw",
        "outputId": "de57db2f-b5a4-4e45-b4e2-0e6debe5ab99"
      },
      "source": [
        "p1.getAge()"
      ],
      "execution_count": null,
      "outputs": [
        {
          "output_type": "error",
          "ename": "ValueError",
          "evalue": "ignored",
          "traceback": [
            "\u001b[0;31m---------------------------------------------------------------------------\u001b[0m",
            "\u001b[0;31mValueError\u001b[0m                                Traceback (most recent call last)",
            "\u001b[0;32m<ipython-input-26-b54059a4933a>\u001b[0m in \u001b[0;36m<module>\u001b[0;34m()\u001b[0m\n\u001b[0;32m----> 1\u001b[0;31m \u001b[0mp1\u001b[0m\u001b[0;34m.\u001b[0m\u001b[0mgetAge\u001b[0m\u001b[0;34m(\u001b[0m\u001b[0;34m)\u001b[0m\u001b[0;34m\u001b[0m\u001b[0;34m\u001b[0m\u001b[0m\n\u001b[0m",
            "\u001b[0;32m<ipython-input-24-ded94e734571>\u001b[0m in \u001b[0;36mgetAge\u001b[0;34m(self)\u001b[0m\n\u001b[1;32m     18\u001b[0m   \u001b[0;32mdef\u001b[0m \u001b[0mgetAge\u001b[0m\u001b[0;34m(\u001b[0m\u001b[0mself\u001b[0m\u001b[0;34m,\u001b[0m \u001b[0;34m)\u001b[0m\u001b[0;34m:\u001b[0m\u001b[0;34m\u001b[0m\u001b[0;34m\u001b[0m\u001b[0m\n\u001b[1;32m     19\u001b[0m     \u001b[0;32mif\u001b[0m \u001b[0;34m(\u001b[0m\u001b[0mself\u001b[0m\u001b[0;34m.\u001b[0m\u001b[0mbirthday\u001b[0m \u001b[0;34m==\u001b[0m \u001b[0;32mNone\u001b[0m\u001b[0;34m)\u001b[0m\u001b[0;34m:\u001b[0m\u001b[0;34m\u001b[0m\u001b[0;34m\u001b[0m\u001b[0m\n\u001b[0;32m---> 20\u001b[0;31m       \u001b[0;32mraise\u001b[0m \u001b[0mValueError\u001b[0m\u001b[0;34m(\u001b[0m\u001b[0;34m''\u001b[0m\u001b[0;34m)\u001b[0m\u001b[0;34m\u001b[0m\u001b[0;34m\u001b[0m\u001b[0m\n\u001b[0m\u001b[1;32m     21\u001b[0m       \u001b[0mself\u001b[0m\u001b[0;34m.\u001b[0m\u001b[0mcurrentDate\u001b[0m \u001b[0;34m=\u001b[0m \u001b[0mdatetime\u001b[0m\u001b[0;34m.\u001b[0m\u001b[0mdatetime\u001b[0m\u001b[0;34m.\u001b[0m\u001b[0mtoday\u001b[0m\u001b[0;34m(\u001b[0m\u001b[0;34m)\u001b[0m\u001b[0;34m\u001b[0m\u001b[0;34m\u001b[0m\u001b[0m\n\u001b[1;32m     22\u001b[0m     \u001b[0;32mreturn\u001b[0m \u001b[0;34m(\u001b[0m\u001b[0mself\u001b[0m\u001b[0;34m.\u001b[0m\u001b[0mcurrentDate\u001b[0m \u001b[0;34m-\u001b[0m \u001b[0mself\u001b[0m\u001b[0;34m.\u001b[0m\u001b[0mbirthday\u001b[0m\u001b[0;34m)\u001b[0m\u001b[0;34m\u001b[0m\u001b[0;34m\u001b[0m\u001b[0m\n",
            "\u001b[0;31mValueError\u001b[0m: "
          ]
        }
      ]
    },
    {
      "cell_type": "code",
      "metadata": {
        "id": "4Dv8SWhLR6qk"
      },
      "source": [
        "p1.setBirthday( 10,5,1980)"
      ],
      "execution_count": null,
      "outputs": []
    },
    {
      "cell_type": "code",
      "metadata": {
        "colab": {
          "base_uri": "https://localhost:8080/"
        },
        "id": "5EsRRJfmd3mU",
        "outputId": "1d04058a-07d5-4073-d2d4-ad7a71d25d27"
      },
      "source": [
        "p1.getAge()"
      ],
      "execution_count": null,
      "outputs": [
        {
          "output_type": "execute_result",
          "data": {
            "text/plain": [
              "datetime.timedelta(days=14823, seconds=58553, microseconds=152886)"
            ]
          },
          "metadata": {
            "tags": []
          },
          "execution_count": 30
        }
      ]
    },
    {
      "cell_type": "code",
      "metadata": {
        "id": "VGs13R_tSk5Y"
      },
      "source": [
        "import datetime"
      ],
      "execution_count": null,
      "outputs": []
    },
    {
      "cell_type": "code",
      "metadata": {
        "id": "bluOisuvSm5o"
      },
      "source": [
        "p1.setBirthday( 10,5,1980)\n",
        "p2.setBirthday( 12,4,1981)\n",
        "p3.setBirthday( 9,2,1982)"
      ],
      "execution_count": null,
      "outputs": []
    },
    {
      "cell_type": "code",
      "metadata": {
        "colab": {
          "base_uri": "https://localhost:8080/"
        },
        "id": "nyoqdtsuToWQ",
        "outputId": "4491bd5c-1b1f-4c3a-aed4-b9a305b1a8d7"
      },
      "source": [
        "p1.getAge()"
      ],
      "execution_count": null,
      "outputs": [
        {
          "output_type": "execute_result",
          "data": {
            "text/plain": [
              "datetime.timedelta(days=14816, seconds=58404, microseconds=243361)"
            ]
          },
          "metadata": {
            "tags": []
          },
          "execution_count": 95
        }
      ]
    },
    {
      "cell_type": "code",
      "metadata": {
        "id": "QdS7KGdzW7F3"
      },
      "source": [
        "%%sh\n",
        "curl https://packages.microsoft.com/keys/microsoft.asc | apt-key add -\n",
        "curl https://packages.microsoft.com/config/ubuntu/16.04/prod.list > /etc/apt/sources.list.d/mssql-release.list\n",
        "sudo apt-get update\n",
        "sudo ACCEPT_EULA=Y apt-get -q -y install msodbcsql17\n",
        "!sudo apt-get install unixodbc-dev\n",
        "!pip install pyodbc\n",
        "!pip install chart_studio\n"
      ],
      "execution_count": null,
      "outputs": []
    },
    {
      "cell_type": "code",
      "metadata": {
        "colab": {
          "base_uri": "https://localhost:8080/"
        },
        "id": "LBe5NDEcXomW",
        "outputId": "73dc4fff-0fe2-4b6b-a2b1-e22b963e481f"
      },
      "source": [
        "!sudo apt-get install unixodbc-dev"
      ],
      "execution_count": null,
      "outputs": [
        {
          "output_type": "stream",
          "text": [
            "Reading package lists... Done\n",
            "Building dependency tree       \n",
            "Reading state information... Done\n",
            "unixodbc-dev is already the newest version (2.3.7).\n",
            "unixodbc-dev set to manually installed.\n",
            "The following package was automatically installed and is no longer required:\n",
            "  libnvidia-common-460\n",
            "Use 'sudo apt autoremove' to remove it.\n",
            "0 upgraded, 0 newly installed, 0 to remove and 77 not upgraded.\n"
          ],
          "name": "stdout"
        }
      ]
    },
    {
      "cell_type": "code",
      "metadata": {
        "colab": {
          "base_uri": "https://localhost:8080/"
        },
        "id": "9wEVEYzwXser",
        "outputId": "7c4c1129-cfa9-403b-ed35-064bf9f30ddd"
      },
      "source": [
        "!pip install pyodbc"
      ],
      "execution_count": null,
      "outputs": [
        {
          "output_type": "stream",
          "text": [
            "Collecting pyodbc\n",
            "\u001b[?25l  Downloading https://files.pythonhosted.org/packages/81/0d/bb08bb16c97765244791c73e49de9fd4c24bb3ef00313aed82e5640dee5d/pyodbc-4.0.30.tar.gz (266kB)\n",
            "\r\u001b[K     |█▎                              | 10kB 15.9MB/s eta 0:00:01\r\u001b[K     |██▌                             | 20kB 22.0MB/s eta 0:00:01\r\u001b[K     |███▊                            | 30kB 15.7MB/s eta 0:00:01\r\u001b[K     |█████                           | 40kB 12.7MB/s eta 0:00:01\r\u001b[K     |██████▏                         | 51kB 14.5MB/s eta 0:00:01\r\u001b[K     |███████▍                        | 61kB 11.8MB/s eta 0:00:01\r\u001b[K     |████████▋                       | 71kB 11.9MB/s eta 0:00:01\r\u001b[K     |█████████▉                      | 81kB 12.7MB/s eta 0:00:01\r\u001b[K     |███████████                     | 92kB 12.6MB/s eta 0:00:01\r\u001b[K     |████████████▎                   | 102kB 12.5MB/s eta 0:00:01\r\u001b[K     |█████████████▌                  | 112kB 12.5MB/s eta 0:00:01\r\u001b[K     |██████████████▊                 | 122kB 12.5MB/s eta 0:00:01\r\u001b[K     |████████████████                | 133kB 12.5MB/s eta 0:00:01\r\u001b[K     |█████████████████▎              | 143kB 12.5MB/s eta 0:00:01\r\u001b[K     |██████████████████▌             | 153kB 12.5MB/s eta 0:00:01\r\u001b[K     |███████████████████▊            | 163kB 12.5MB/s eta 0:00:01\r\u001b[K     |█████████████████████           | 174kB 12.5MB/s eta 0:00:01\r\u001b[K     |██████████████████████▏         | 184kB 12.5MB/s eta 0:00:01\r\u001b[K     |███████████████████████▍        | 194kB 12.5MB/s eta 0:00:01\r\u001b[K     |████████████████████████▋       | 204kB 12.5MB/s eta 0:00:01\r\u001b[K     |█████████████████████████▉      | 215kB 12.5MB/s eta 0:00:01\r\u001b[K     |███████████████████████████     | 225kB 12.5MB/s eta 0:00:01\r\u001b[K     |████████████████████████████▎   | 235kB 12.5MB/s eta 0:00:01\r\u001b[K     |█████████████████████████████▌  | 245kB 12.5MB/s eta 0:00:01\r\u001b[K     |██████████████████████████████▊ | 256kB 12.5MB/s eta 0:00:01\r\u001b[K     |████████████████████████████████| 266kB 12.5MB/s eta 0:00:01\r\u001b[K     |████████████████████████████████| 276kB 12.5MB/s \n",
            "\u001b[?25hBuilding wheels for collected packages: pyodbc\n",
            "  Building wheel for pyodbc (setup.py) ... \u001b[?25l\u001b[?25hdone\n",
            "  Created wheel for pyodbc: filename=pyodbc-4.0.30-cp37-cp37m-linux_x86_64.whl size=280825 sha256=0d73fd557e5702e64e492a652ff398892da501ac64e501082d766177c5589cf5\n",
            "  Stored in directory: /root/.cache/pip/wheels/4a/02/ba/6b495fec7cb127583a769a74f3ba91eb700d73e25fbb5ba09b\n",
            "Successfully built pyodbc\n",
            "Installing collected packages: pyodbc\n",
            "Successfully installed pyodbc-4.0.30\n"
          ],
          "name": "stdout"
        }
      ]
    },
    {
      "cell_type": "code",
      "metadata": {
        "colab": {
          "base_uri": "https://localhost:8080/"
        },
        "id": "UfF24DjLXxwo",
        "outputId": "2e4a2954-29df-4a5c-d93a-96b65e172fd7"
      },
      "source": [
        "!pip install chart_studio"
      ],
      "execution_count": null,
      "outputs": [
        {
          "output_type": "stream",
          "text": [
            "Collecting chart_studio\n",
            "\u001b[?25l  Downloading https://files.pythonhosted.org/packages/ca/ce/330794a6b6ca4b9182c38fc69dd2a9cbff60fd49421cb8648ee5fee352dc/chart_studio-1.1.0-py3-none-any.whl (64kB)\n",
            "\r\u001b[K     |█████                           | 10kB 11.6MB/s eta 0:00:01\r\u001b[K     |██████████▏                     | 20kB 16.2MB/s eta 0:00:01\r\u001b[K     |███████████████▎                | 30kB 20.2MB/s eta 0:00:01\r\u001b[K     |████████████████████▍           | 40kB 22.1MB/s eta 0:00:01\r\u001b[K     |█████████████████████████▍      | 51kB 22.8MB/s eta 0:00:01\r\u001b[K     |██████████████████████████████▌ | 61kB 20.5MB/s eta 0:00:01\r\u001b[K     |████████████████████████████████| 71kB 5.5MB/s \n",
            "\u001b[?25hRequirement already satisfied: six in /usr/local/lib/python3.7/dist-packages (from chart_studio) (1.15.0)\n",
            "Requirement already satisfied: plotly in /usr/local/lib/python3.7/dist-packages (from chart_studio) (4.4.1)\n",
            "Requirement already satisfied: retrying>=1.3.3 in /usr/local/lib/python3.7/dist-packages (from chart_studio) (1.3.3)\n",
            "Requirement already satisfied: requests in /usr/local/lib/python3.7/dist-packages (from chart_studio) (2.23.0)\n",
            "Requirement already satisfied: idna<3,>=2.5 in /usr/local/lib/python3.7/dist-packages (from requests->chart_studio) (2.10)\n",
            "Requirement already satisfied: certifi>=2017.4.17 in /usr/local/lib/python3.7/dist-packages (from requests->chart_studio) (2020.12.5)\n",
            "Requirement already satisfied: urllib3!=1.25.0,!=1.25.1,<1.26,>=1.21.1 in /usr/local/lib/python3.7/dist-packages (from requests->chart_studio) (1.24.3)\n",
            "Requirement already satisfied: chardet<4,>=3.0.2 in /usr/local/lib/python3.7/dist-packages (from requests->chart_studio) (3.0.4)\n",
            "Installing collected packages: chart-studio\n",
            "Successfully installed chart-studio-1.1.0\n"
          ],
          "name": "stdout"
        }
      ]
    },
    {
      "cell_type": "code",
      "metadata": {
        "id": "KTdkEKs8X1XZ"
      },
      "source": [
        "import pyodbc"
      ],
      "execution_count": null,
      "outputs": []
    },
    {
      "cell_type": "code",
      "metadata": {
        "id": "EFRrQaQfX35g"
      },
      "source": [
        "#----------------------------------------------------------------------------------------------------------\n",
        "server = '158.251.91.43,5050;' \n",
        "database = 'testTHdb;' \n",
        "username = 'sa;' \n",
        "password = 'Admin.123;' \n",
        "cnxn = pyodbc.connect('DRIVER={ODBC Driver 17 for SQL Server};SERVER='+server+';DATABASE='+database+';UID='+username+';PWD='+ password)\n"
      ],
      "execution_count": null,
      "outputs": []
    },
    {
      "cell_type": "code",
      "metadata": {
        "id": "Uh-p9DKoY2s1"
      },
      "source": [
        "cursor = cnxn.cursor()"
      ],
      "execution_count": null,
      "outputs": []
    },
    {
      "cell_type": "code",
      "metadata": {
        "colab": {
          "base_uri": "https://localhost:8080/"
        },
        "id": "HqzcPGoqZmWc",
        "outputId": "b000ebbd-9499-4b4b-ebef-68cb086e98c6"
      },
      "source": [
        "actualArduino = cursor.execute('SELECT * FROM Arduino')\n",
        "arduino = actualArduino.fetchall()\n",
        "cursor.commit()\n",
        "arduino"
      ],
      "execution_count": null,
      "outputs": [
        {
          "output_type": "execute_result",
          "data": {
            "text/plain": [
              "[(1, 'Arduinouno', 1, datetime.datetime(2021, 4, 8, 19, 50, 28, 453333), None)]"
            ]
          },
          "metadata": {
            "tags": []
          },
          "execution_count": 13
        }
      ]
    },
    {
      "cell_type": "code",
      "metadata": {
        "colab": {
          "base_uri": "https://localhost:8080/"
        },
        "id": "ACMVY_hJbwHz",
        "outputId": "b56d7104-06d2-4c7b-9d23-3a17f7319290"
      },
      "source": [
        "import numpy as np\n",
        "np.random.randint(1,101,5)"
      ],
      "execution_count": null,
      "outputs": [
        {
          "output_type": "execute_result",
          "data": {
            "text/plain": [
              "array([12, 81, 59,  6, 82])"
            ]
          },
          "metadata": {
            "tags": []
          },
          "execution_count": 15
        }
      ]
    },
    {
      "cell_type": "code",
      "metadata": {
        "id": "XIFsQX4Nb8yS"
      },
      "source": [
        "Ndist = np.random.normal(0,1,1000)"
      ],
      "execution_count": null,
      "outputs": []
    },
    {
      "cell_type": "code",
      "metadata": {
        "colab": {
          "base_uri": "https://localhost:8080/"
        },
        "id": "TA23M0zrlulc",
        "outputId": "54ec8226-5084-467e-a51b-acfc2019f889"
      },
      "source": [
        "Ndist[40]"
      ],
      "execution_count": null,
      "outputs": [
        {
          "output_type": "execute_result",
          "data": {
            "text/plain": [
              "-1.0151361961047602"
            ]
          },
          "metadata": {
            "tags": []
          },
          "execution_count": 52
        }
      ]
    },
    {
      "cell_type": "code",
      "metadata": {
        "colab": {
          "base_uri": "https://localhost:8080/",
          "height": 284
        },
        "id": "kXbKnqi_cVTC",
        "outputId": "e6efe12a-878d-4419-8d1e-c18da0395199"
      },
      "source": [
        "import matplotlib.pyplot as plt\n",
        "plt.plot(Ndist)"
      ],
      "execution_count": null,
      "outputs": [
        {
          "output_type": "execute_result",
          "data": {
            "text/plain": [
              "[<matplotlib.lines.Line2D at 0x7f00106b6890>]"
            ]
          },
          "metadata": {
            "tags": []
          },
          "execution_count": 18
        },
        {
          "output_type": "display_data",
          "data": {
            "image/png": "[encoded data removed]",
            "text/plain": [
              "<Figure size 432x288 with 1 Axes>"
            ]
          },
          "metadata": {
            "tags": [],
            "needs_background": "light"
          }
        }
      ]
    },
    {
      "cell_type": "code",
      "metadata": {
        "colab": {
          "base_uri": "https://localhost:8080/",
          "height": 638
        },
        "id": "9MPvTM2JczeV",
        "outputId": "3ea64765-e940-447c-f4d5-9893284bea24"
      },
      "source": [
        "plt.figure(figsize=(10,10))\n",
        "plt.hist(x=Ndist, bins='auto', color='#0504aa',\n",
        "                            alpha=0.7, rwidth=0.85)\n",
        "plt.grid(axis='y', alpha=0.75)\n",
        "plt.xlabel('Value')\n",
        "plt.ylabel('Frequency')\n",
        "plt.title('My Very Own Histogram')"
      ],
      "execution_count": null,
      "outputs": [
        {
          "output_type": "execute_result",
          "data": {
            "text/plain": [
              "Text(0.5, 1.0, 'My Very Own Histogram')"
            ]
          },
          "metadata": {
            "tags": []
          },
          "execution_count": 22
        },
        {
          "output_type": "display_data",
          "data": {
            "image/png": "[encoded data removed]",
            "text/plain": [
              "<Figure size 720x720 with 1 Axes>"
            ]
          },
          "metadata": {
            "tags": [],
            "needs_background": "light"
          }
        }
      ]
    },
    {
      "cell_type": "code",
      "metadata": {
        "id": "K-WV5sQXeSJ1"
      },
      "source": [
        "class mySQL(object):\n",
        "  def __init__(self,server, port, database, userName, password):\n",
        "    self.server = server + ','+port\n",
        "    self.database = database\n",
        "    self.userName = userName\n",
        "    self.password = password\n",
        "    self.cnxn = pyodbc.connect('DRIVER={ODBC Driver 17 for SQL Server};SERVER='+self.server+';DATABASE='+self.database+';UID='+self.userName+';PWD='+ self.password)\n",
        "    self.cursor = cnxn.cursor()\n",
        "  #--------------------------\n",
        "  def getCursor(self):\n",
        "    return self.cursor\n",
        "  #--------------------------\n",
        "  def getArduinoTable(self):\n",
        "    actualArduino = self.cursor.execute('SELECT * FROM Arduino')\n",
        "    arduino = actualArduino.fetchall()\n",
        "    self.cursor.commit() \n",
        "    return arduino\n",
        "  #--------------------------\n",
        "  def getTempTable(self):\n",
        "    actualTemp = self.cursor.execute('SELECT * FROM Temperatura')\n",
        "    temp = actualTemp.fetchall()\n",
        "    self.cursor.commit() \n",
        "    return temp  \n",
        "  #--------------------------\n",
        "  def __str__(self):\n",
        "    return self.server\n",
        "  #--------------------------\n",
        "  def setTempTest(self,range1,range2,numdata):\n",
        "    myData = np.random.normal(0,1,numdata)\n",
        "    iswrite = False\n",
        "    try:\n",
        "      iswrite = self.writeToDb(myData)\n",
        "    except Exception as e:\n",
        "      print(e)\n",
        "    return iswrite\n",
        "  def writeToDb (self, myData):\n",
        "    iswritten = False\n",
        "    try:\n",
        "      for i in myData:\n",
        "        self.cursor.execute('exec SP_writeTemp ?', i)\n",
        "        self.cursor.commit() \n",
        "      iswritten = True\n",
        "    except Exception as e:\n",
        "        print(e)\n",
        "    return iswritten\n",
        "  #--------------------------\n",
        "  #--------------------------\n",
        "  #--------------------------"
      ],
      "execution_count": null,
      "outputs": []
    },
    {
      "cell_type": "code",
      "metadata": {
        "id": "ecYztMcvfiAU"
      },
      "source": [
        "sensor1 = mySQL('158.251.91.43','5050', 'testTHdb' , 'sa', 'Admin.123')"
      ],
      "execution_count": null,
      "outputs": []
    },
    {
      "cell_type": "code",
      "metadata": {
        "colab": {
          "base_uri": "https://localhost:8080/"
        },
        "id": "ucMGSuvbmZDk",
        "outputId": "55a7d781-0fed-4ed6-ade9-9e1c40184c66"
      },
      "source": [
        "sensor1.getCursor()"
      ],
      "execution_count": null,
      "outputs": [
        {
          "output_type": "execute_result",
          "data": {
            "text/plain": [
              "<pyodbc.Cursor at 0x7f000bb568b0>"
            ]
          },
          "metadata": {
            "tags": []
          },
          "execution_count": 78
        }
      ]
    },
    {
      "cell_type": "code",
      "metadata": {
        "colab": {
          "base_uri": "https://localhost:8080/"
        },
        "id": "4kJM4D9Rfrhv",
        "outputId": "26119c9f-796c-4f70-e65c-c0e82720824d"
      },
      "source": [
        "actualArduino = sensor1.getCursor().execute('SELECT * FROM Arduino')\n",
        "arduino = actualArduino.fetchall()\n",
        "cursor.commit()\n",
        "arduino"
      ],
      "execution_count": null,
      "outputs": [
        {
          "output_type": "execute_result",
          "data": {
            "text/plain": [
              "[(1, 'Arduinouno', 1, datetime.datetime(2021, 4, 8, 19, 50, 28, 453333), None)]"
            ]
          },
          "metadata": {
            "tags": []
          },
          "execution_count": 40
        }
      ]
    },
    {
      "cell_type": "code",
      "metadata": {
        "colab": {
          "base_uri": "https://localhost:8080/"
        },
        "id": "KEbam5L9ht9f",
        "outputId": "0c7c1584-dde5-423d-ecdf-a35b5c39d339"
      },
      "source": [
        "sensor1.getArduinoTable()"
      ],
      "execution_count": null,
      "outputs": [
        {
          "output_type": "execute_result",
          "data": {
            "text/plain": [
              "[(1, 'Arduinouno', 1, datetime.datetime(2021, 4, 8, 19, 50, 28, 453333), None)]"
            ]
          },
          "metadata": {
            "tags": []
          },
          "execution_count": 46
        }
      ]
    },
    {
      "cell_type": "code",
      "metadata": {
        "colab": {
          "base_uri": "https://localhost:8080/"
        },
        "id": "qWNxplX5iGZS",
        "outputId": "ffdfdb8b-87a5-41da-f90b-582dafb71aed"
      },
      "source": [
        "sensor1.getTempTable()"
      ],
      "execution_count": null,
      "outputs": [
        {
          "output_type": "execute_result",
          "data": {
            "text/plain": [
              "[(1, -1.0151361961047602, 1, 1), (2, -1.0151361961047602, 1, 1)]"
            ]
          },
          "metadata": {
            "tags": []
          },
          "execution_count": 74
        }
      ]
    },
    {
      "cell_type": "code",
      "metadata": {
        "colab": {
          "base_uri": "https://localhost:8080/"
        },
        "id": "Dw1u5xFhiQh3",
        "outputId": "7db5a5dc-e58f-4b3a-b387-1cec84a5161d"
      },
      "source": [
        "sensor1.setTempTest(1,100,100)"
      ],
      "execution_count": null,
      "outputs": [
        {
          "output_type": "execute_result",
          "data": {
            "text/plain": [
              "True"
            ]
          },
          "metadata": {
            "tags": []
          },
          "execution_count": 79
        }
      ]
    }
  ]
}